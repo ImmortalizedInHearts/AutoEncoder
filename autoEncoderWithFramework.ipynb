{
  "nbformat": 4,
  "nbformat_minor": 0,
  "metadata": {
    "colab": {
      "name": "Untitled1.ipynb",
      "provenance": [],
      "authorship_tag": "ABX9TyPru0nKdUKHhlo+YuKg0V+C",
      "include_colab_link": true
    },
    "kernelspec": {
      "name": "python3",
      "display_name": "Python 3"
    }
  },
  "cells": [
    {
      "cell_type": "markdown",
      "metadata": {
        "id": "view-in-github",
        "colab_type": "text"
      },
      "source": [
        "<a href=\"https://colab.research.google.com/github/ImmortalizedInHearts/AutoEncoder/blob/main/autoEncoderWithFramework.ipynb\" target=\"_parent\"><img src=\"https://colab.research.google.com/assets/colab-badge.svg\" alt=\"Open In Colab\"/></a>"
      ]
    },
    {
      "cell_type": "code",
      "metadata": {
        "id": "HeWLQmwv8ILP"
      },
      "source": [
        "import numpy as np\n",
        "import scipy.io\n",
        "import matplotlib.pyplot as plt\n",
        "import sklearn\n",
        "\n",
        "from tqdm import tqdm\n",
        "from tensorflow import keras\n",
        "from keras.models import Sequential, Model\n",
        "from keras.layers import Dense, Input\n",
        "from keras.optimizers import Adam, RMSprop"
      ],
      "execution_count": 24,
      "outputs": []
    },
    {
      "cell_type": "code",
      "metadata": {
        "id": "M5mEIbZlbxZi"
      },
      "source": [
        "def getImages(data, pred):\n",
        "  plt.figure(figsize=(20,5))\n",
        "  test_y = pred\n",
        "  N = 10\n",
        "  for i in range(1,N+1):\n",
        "      plt.subplot(2,N,i)\n",
        "      plt.imshow(np.reshape(data[:,i], (16,16)), cmap=\"plasma\")\n",
        "      plt.axis(\"off\")\n",
        "      plt.grid(b=False)\n",
        "\n",
        "      plt.subplot(2,N,i+N)\n",
        "      plt.imshow(np.reshape(test_y[:,i],(16,16)), cmap=\"plasma\")\n",
        "      plt.axis(\"off\")\n",
        "      plt.grid(b=False)\n",
        "  plt.show()"
      ],
      "execution_count": 25,
      "outputs": []
    },
    {
      "cell_type": "code",
      "metadata": {
        "id": "Dw5ZpyFJ8MXQ"
      },
      "source": [
        "mat = scipy.io.loadmat('data.mat')\n",
        "xTrain = np.array(mat['data']['test'][0][0][0][0][0])\n",
        "yTrain = np.array(mat['data']['test'][0][0][0][0][1])\n",
        "\n",
        "xTest = np.array(mat['data']['training'][0][0][0][0][0])\n",
        "yTest = np.array(mat['data']['training'][0][0][0][0][1])\n",
        "\n",
        "xValidation = np.array(mat['data']['validation'][0][0][0][0][1])\n",
        "yValidation = np.array(mat['data']['validation'][0][0][0][0][0])"
      ],
      "execution_count": 41,
      "outputs": []
    },
    {
      "cell_type": "code",
      "metadata": {
        "id": "V1rtItlKZE5B"
      },
      "source": [
        "def create_dense_ae():\n",
        "\n",
        "    encoding_dim = 10\n",
        "\n",
        "    input_img = Input(shape=(256,))\n",
        "\n",
        "    encoded = Dense(encoding_dim, activation='sigmoid')(input_img)\n",
        "    \n",
        "    input_encoded = Input(shape=(encoding_dim,))\n",
        "    decoded = Dense(256, activation='softmax')(input_encoded)\n",
        "\n",
        "    encoder = Model(input_img, encoded, name=\"encoder\")\n",
        "    decoder = Model(input_encoded, decoded, name=\"decoder\")\n",
        "    autoencoder = Model(input_img, decoder(encoder(input_img)), name=\"autoencoder\")\n",
        "    return encoder, decoder, autoencoder"
      ],
      "execution_count": 42,
      "outputs": []
    },
    {
      "cell_type": "code",
      "metadata": {
        "id": "jMNv7bGO_qqx"
      },
      "source": [
        "encoder, decoder, autoencoder = create_dense_ae()\n",
        "autoencoder.compile(optimizer='adam', loss='binary_crossentropy')"
      ],
      "execution_count": 43,
      "outputs": []
    },
    {
      "cell_type": "code",
      "metadata": {
        "colab": {
          "base_uri": "https://localhost:8080/"
        },
        "id": "iJXt6e1g9O5P",
        "outputId": "fefe1640-a835-4641-f489-2f21b4df9fda"
      },
      "source": [
        "autoencoder.summary()"
      ],
      "execution_count": 44,
      "outputs": [
        {
          "output_type": "stream",
          "text": [
            "Model: \"autoencoder\"\n",
            "_________________________________________________________________\n",
            "Layer (type)                 Output Shape              Param #   \n",
            "=================================================================\n",
            "input_12 (InputLayer)        [(None, 256)]             0         \n",
            "_________________________________________________________________\n",
            "encoder (Functional)         (None, 10)                2570      \n",
            "_________________________________________________________________\n",
            "decoder (Functional)         (None, 256)               2816      \n",
            "=================================================================\n",
            "Total params: 5,386\n",
            "Trainable params: 5,386\n",
            "Non-trainable params: 0\n",
            "_________________________________________________________________\n"
          ],
          "name": "stdout"
        }
      ]
    },
    {
      "cell_type": "code",
      "metadata": {
        "id": "3c7aX2XJbALa",
        "outputId": "966aa9e5-0abf-42cf-f794-45d0ec7c7bb7",
        "colab": {
          "base_uri": "https://localhost:8080/"
        }
      },
      "source": [
        "autoencoder.fit(xTrain.T, xTrain.T,\n",
        "                epochs=50,\n",
        "                batch_size=256,\n",
        "                shuffle=True,\n",
        "                validation_data=(xTest.T, xTest.T))"
      ],
      "execution_count": 45,
      "outputs": [
        {
          "output_type": "stream",
          "text": [
            "Epoch 1/50\n",
            "36/36 [==============================] - 0s 6ms/step - loss: 1.3721 - val_loss: 1.3544\n",
            "Epoch 2/50\n",
            "36/36 [==============================] - 0s 4ms/step - loss: 1.3550 - val_loss: 1.3405\n",
            "Epoch 3/50\n",
            "36/36 [==============================] - 0s 4ms/step - loss: 1.3439 - val_loss: 1.3312\n",
            "Epoch 4/50\n",
            "36/36 [==============================] - 0s 4ms/step - loss: 1.3354 - val_loss: 1.3232\n",
            "Epoch 5/50\n",
            "36/36 [==============================] - 0s 4ms/step - loss: 1.3280 - val_loss: 1.3163\n",
            "Epoch 6/50\n",
            "36/36 [==============================] - 0s 4ms/step - loss: 1.3215 - val_loss: 1.3102\n",
            "Epoch 7/50\n",
            "36/36 [==============================] - 0s 3ms/step - loss: 1.3156 - val_loss: 1.3046\n",
            "Epoch 8/50\n",
            "36/36 [==============================] - 0s 4ms/step - loss: 1.3104 - val_loss: 1.2997\n",
            "Epoch 9/50\n",
            "36/36 [==============================] - 0s 4ms/step - loss: 1.3058 - val_loss: 1.2955\n",
            "Epoch 10/50\n",
            "36/36 [==============================] - 0s 4ms/step - loss: 1.3018 - val_loss: 1.2918\n",
            "Epoch 11/50\n",
            "36/36 [==============================] - 0s 4ms/step - loss: 1.2983 - val_loss: 1.2885\n",
            "Epoch 12/50\n",
            "36/36 [==============================] - 0s 4ms/step - loss: 1.2951 - val_loss: 1.2856\n",
            "Epoch 13/50\n",
            "36/36 [==============================] - 0s 4ms/step - loss: 1.2923 - val_loss: 1.2830\n",
            "Epoch 14/50\n",
            "36/36 [==============================] - 0s 4ms/step - loss: 1.2897 - val_loss: 1.2806\n",
            "Epoch 15/50\n",
            "36/36 [==============================] - 0s 3ms/step - loss: 1.2873 - val_loss: 1.2783\n",
            "Epoch 16/50\n",
            "36/36 [==============================] - 0s 4ms/step - loss: 1.2851 - val_loss: 1.2763\n",
            "Epoch 17/50\n",
            "36/36 [==============================] - 0s 4ms/step - loss: 1.2831 - val_loss: 1.2744\n",
            "Epoch 18/50\n",
            "36/36 [==============================] - 0s 4ms/step - loss: 1.2812 - val_loss: 1.2726\n",
            "Epoch 19/50\n",
            "36/36 [==============================] - 0s 4ms/step - loss: 1.2795 - val_loss: 1.2710\n",
            "Epoch 20/50\n",
            "36/36 [==============================] - 0s 4ms/step - loss: 1.2778 - val_loss: 1.2694\n",
            "Epoch 21/50\n",
            "36/36 [==============================] - 0s 4ms/step - loss: 1.2763 - val_loss: 1.2680\n",
            "Epoch 22/50\n",
            "36/36 [==============================] - 0s 4ms/step - loss: 1.2749 - val_loss: 1.2667\n",
            "Epoch 23/50\n",
            "36/36 [==============================] - 0s 4ms/step - loss: 1.2735 - val_loss: 1.2654\n",
            "Epoch 24/50\n",
            "36/36 [==============================] - 0s 4ms/step - loss: 1.2723 - val_loss: 1.2642\n",
            "Epoch 25/50\n",
            "36/36 [==============================] - 0s 4ms/step - loss: 1.2711 - val_loss: 1.2631\n",
            "Epoch 26/50\n",
            "36/36 [==============================] - 0s 4ms/step - loss: 1.2699 - val_loss: 1.2620\n",
            "Epoch 27/50\n",
            "36/36 [==============================] - 0s 4ms/step - loss: 1.2688 - val_loss: 1.2609\n",
            "Epoch 28/50\n",
            "36/36 [==============================] - 0s 4ms/step - loss: 1.2678 - val_loss: 1.2599\n",
            "Epoch 29/50\n",
            "36/36 [==============================] - 0s 4ms/step - loss: 1.2668 - val_loss: 1.2590\n",
            "Epoch 30/50\n",
            "36/36 [==============================] - 0s 4ms/step - loss: 1.2658 - val_loss: 1.2580\n",
            "Epoch 31/50\n",
            "36/36 [==============================] - 0s 4ms/step - loss: 1.2649 - val_loss: 1.2571\n",
            "Epoch 32/50\n",
            "36/36 [==============================] - 0s 4ms/step - loss: 1.2640 - val_loss: 1.2563\n",
            "Epoch 33/50\n",
            "36/36 [==============================] - 0s 4ms/step - loss: 1.2632 - val_loss: 1.2554\n",
            "Epoch 34/50\n",
            "36/36 [==============================] - 0s 4ms/step - loss: 1.2624 - val_loss: 1.2547\n",
            "Epoch 35/50\n",
            "36/36 [==============================] - 0s 4ms/step - loss: 1.2616 - val_loss: 1.2539\n",
            "Epoch 36/50\n",
            "36/36 [==============================] - 0s 4ms/step - loss: 1.2609 - val_loss: 1.2532\n",
            "Epoch 37/50\n",
            "36/36 [==============================] - 0s 4ms/step - loss: 1.2601 - val_loss: 1.2525\n",
            "Epoch 38/50\n",
            "36/36 [==============================] - 0s 4ms/step - loss: 1.2594 - val_loss: 1.2518\n",
            "Epoch 39/50\n",
            "36/36 [==============================] - 0s 4ms/step - loss: 1.2588 - val_loss: 1.2512\n",
            "Epoch 40/50\n",
            "36/36 [==============================] - 0s 4ms/step - loss: 1.2581 - val_loss: 1.2505\n",
            "Epoch 41/50\n",
            "36/36 [==============================] - 0s 4ms/step - loss: 1.2575 - val_loss: 1.2499\n",
            "Epoch 42/50\n",
            "36/36 [==============================] - 0s 4ms/step - loss: 1.2569 - val_loss: 1.2494\n",
            "Epoch 43/50\n",
            "36/36 [==============================] - 0s 4ms/step - loss: 1.2564 - val_loss: 1.2488\n",
            "Epoch 44/50\n",
            "36/36 [==============================] - 0s 4ms/step - loss: 1.2558 - val_loss: 1.2483\n",
            "Epoch 45/50\n",
            "36/36 [==============================] - 0s 4ms/step - loss: 1.2553 - val_loss: 1.2478\n",
            "Epoch 46/50\n",
            "36/36 [==============================] - 0s 4ms/step - loss: 1.2548 - val_loss: 1.2473\n",
            "Epoch 47/50\n",
            "36/36 [==============================] - 0s 4ms/step - loss: 1.2543 - val_loss: 1.2468\n",
            "Epoch 48/50\n",
            "36/36 [==============================] - 0s 4ms/step - loss: 1.2538 - val_loss: 1.2463\n",
            "Epoch 49/50\n",
            "36/36 [==============================] - 0s 4ms/step - loss: 1.2533 - val_loss: 1.2459\n",
            "Epoch 50/50\n",
            "36/36 [==============================] - 0s 4ms/step - loss: 1.2529 - val_loss: 1.2454\n"
          ],
          "name": "stdout"
        },
        {
          "output_type": "execute_result",
          "data": {
            "text/plain": [
              "<tensorflow.python.keras.callbacks.History at 0x7f8cb01bceb8>"
            ]
          },
          "metadata": {
            "tags": []
          },
          "execution_count": 45
        }
      ]
    },
    {
      "cell_type": "code",
      "metadata": {
        "id": "gdchNOHkb7sH",
        "outputId": "3ea4f551-beab-4beb-b680-0a012a04809c",
        "colab": {
          "base_uri": "https://localhost:8080/"
        }
      },
      "source": [
        "n = 11\n",
        "\n",
        "imgs = xTest.T[:n]\n",
        "encoded_imgs = encoder.predict(imgs, batch_size=n)\n",
        "decoded_imgs = decoder.predict(encoded_imgs, batch_size=n)"
      ],
      "execution_count": 46,
      "outputs": [
        {
          "output_type": "stream",
          "text": [
            "WARNING:tensorflow:8 out of the last 39 calls to <function Model.make_predict_function.<locals>.predict_function at 0x7f8cb0465268> triggered tf.function retracing. Tracing is expensive and the excessive number of tracings could be due to (1) creating @tf.function repeatedly in a loop, (2) passing tensors with different shapes, (3) passing Python objects instead of tensors. For (1), please define your @tf.function outside of the loop. For (2), @tf.function has experimental_relax_shapes=True option that relaxes argument shapes that can avoid unnecessary retracing. For (3), please refer to https://www.tensorflow.org/tutorials/customization/performance#python_or_tensor_args and https://www.tensorflow.org/api_docs/python/tf/function for  more details.\n",
            "WARNING:tensorflow:9 out of the last 40 calls to <function Model.make_predict_function.<locals>.predict_function at 0x7f8cb1b7f730> triggered tf.function retracing. Tracing is expensive and the excessive number of tracings could be due to (1) creating @tf.function repeatedly in a loop, (2) passing tensors with different shapes, (3) passing Python objects instead of tensors. For (1), please define your @tf.function outside of the loop. For (2), @tf.function has experimental_relax_shapes=True option that relaxes argument shapes that can avoid unnecessary retracing. For (3), please refer to https://www.tensorflow.org/tutorials/customization/performance#python_or_tensor_args and https://www.tensorflow.org/api_docs/python/tf/function for  more details.\n"
          ],
          "name": "stdout"
        }
      ]
    },
    {
      "cell_type": "code",
      "metadata": {
        "id": "NS9uo-jKfJ2K",
        "colab": {
          "base_uri": "https://localhost:8080/",
          "height": 274
        },
        "outputId": "d59433aa-bce3-4e2d-d8c8-ed67d48e8360"
      },
      "source": [
        "getImages(xTest, decoded_imgs.T)"
      ],
      "execution_count": 47,
      "outputs": [
        {
          "output_type": "display_data",
          "data": {
            "image/png": "[encoded data removed]",
            "text/plain": [
              "<Figure size 1440x360 with 20 Axes>"
            ]
          },
          "metadata": {
            "tags": [],
            "needs_background": "light"
          }
        }
      ]
    },
    {
      "cell_type": "code",
      "metadata": {
        "id": "csHKsm1shpXP"
      },
      "source": [
        ""
      ],
      "execution_count": null,
      "outputs": []
    }
  ]
}